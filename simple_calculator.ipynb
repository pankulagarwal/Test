{
 "cells": [
  {
   "cell_type": "code",
   "execution_count": null,
   "id": "cfcbefaf-3751-461a-b614-9d1465609f6b",
   "metadata": {},
   "outputs": [],
   "source": [
    "def add(x, y):\n",
    "    return x + y\n",
    "\n",
    "def subtract(x, y):\n",
    "    return x - y\n",
    "\n",
    "def multiply(x, y):\n",
    "    return x * y\n",
    "\n",
    "def divide(x, y):\n",
    "    if y == 0:\n",
    "        return \"Cannot divide by zero!\"\n",
    "    return x / y\n",
    "\n",
    "def main():\n",
    "    print(\"Simple Calculator\")\n",
    "    print(\"Select operation:\")\n",
    "    print(\"1. Add\")\n",
    "    print(\"2. Subtract\")\n",
    "    print(\"3. Multiply\")\n",
    "    print(\"4. Divide\")\n",
    "    \n",
    "    choice = input(\"Enter choice(1/2/3/4): \")\n",
    "\n",
    "    if choice in ['1', '2', '3', '4']:\n",
    "        num1 = float(input(\"Enter first number: \"))\n",
    "        num2 = float(input(\"Enter second number: \"))\n",
    "\n",
    "        if choice == '1':\n",
    "            print(f\"{num1} + {num2} = {add(num1, num2)}\")\n",
    "        elif choice == '2':\n",
    "            print(f\"{num1} - {num2} = {subtract(num1, num2)}\")\n",
    "        elif choice == '3':\n",
    "            print(f\"{num1} * {num2} = {multiply(num1, num2)}\")\n",
    "        elif choice == '4':\n",
    "            print(f\"{num1} / {num2} = {divide(num1, num2)}\")\n",
    "    else:\n",
    "        print(\"Invalid input\")\n",
    "\n",
    "if __name__ == \"__main__\":\n",
    "    main()"
   ]
  },
  {
   "cell_type": "code",
   "execution_count": 3,
   "id": "591cd76f-b384-4a0b-b88c-90fbcdc4503f",
   "metadata": {},
   "outputs": [
    {
     "name": "stdout",
     "output_type": "stream",
     "text": [
      "Collecting pyinstaller\n",
      "  Downloading pyinstaller-6.9.0-py3-none-win_amd64.whl.metadata (8.3 kB)\n",
      "Requirement already satisfied: setuptools>=42.0.0 in c:\\users\\agarw\\anaconda installer\\lib\\site-packages (from pyinstaller) (69.5.1)\n",
      "Collecting altgraph (from pyinstaller)\n",
      "  Downloading altgraph-0.17.4-py2.py3-none-any.whl.metadata (7.3 kB)\n",
      "Collecting pyinstaller-hooks-contrib>=2024.7 (from pyinstaller)\n",
      "  Downloading pyinstaller_hooks_contrib-2024.7-py2.py3-none-any.whl.metadata (16 kB)\n",
      "Requirement already satisfied: packaging>=22.0 in c:\\users\\agarw\\anaconda installer\\lib\\site-packages (from pyinstaller) (23.2)\n",
      "Collecting pefile>=2022.5.30 (from pyinstaller)\n",
      "  Downloading pefile-2023.2.7-py3-none-any.whl.metadata (1.4 kB)\n",
      "Requirement already satisfied: pywin32-ctypes>=0.2.1 in c:\\users\\agarw\\anaconda installer\\lib\\site-packages (from pyinstaller) (0.2.2)\n",
      "Downloading pyinstaller-6.9.0-py3-none-win_amd64.whl (1.3 MB)\n",
      "   ---------------------------------------- 0.0/1.3 MB ? eta -:--:--\n",
      "   -- ------------------------------------- 0.1/1.3 MB 2.0 MB/s eta 0:00:01\n",
      "   --------------- ------------------------ 0.5/1.3 MB 4.6 MB/s eta 0:00:01\n",
      "   ----------------------- ---------------- 0.8/1.3 MB 4.9 MB/s eta 0:00:01\n",
      "   ----------------------------------- ---- 1.2/1.3 MB 5.6 MB/s eta 0:00:01\n",
      "   ---------------------------------------  1.3/1.3 MB 5.5 MB/s eta 0:00:01\n",
      "   ---------------------------------------  1.3/1.3 MB 5.5 MB/s eta 0:00:01\n",
      "   ---------------------------------------- 1.3/1.3 MB 4.1 MB/s eta 0:00:00\n",
      "Downloading pefile-2023.2.7-py3-none-any.whl (71 kB)\n",
      "   ---------------------------------------- 0.0/71.8 kB ? eta -:--:--\n",
      "   ---------------------------------------  71.7/71.8 kB ? eta -:--:--\n",
      "   ---------------------------------------- 71.8/71.8 kB 789.1 kB/s eta 0:00:00\n",
      "Downloading pyinstaller_hooks_contrib-2024.7-py2.py3-none-any.whl (341 kB)\n",
      "   ---------------------------------------- 0.0/341.3 kB ? eta -:--:--\n",
      "   ---------------------------- ---------- 245.8/341.3 kB 14.7 MB/s eta 0:00:01\n",
      "   ---------------------------------------  337.9/341.3 kB 7.0 MB/s eta 0:00:01\n",
      "   ---------------------------------------  337.9/341.3 kB 7.0 MB/s eta 0:00:01\n",
      "   ---------------------------------------  337.9/341.3 kB 7.0 MB/s eta 0:00:01\n",
      "   ---------------------------------------  337.9/341.3 kB 7.0 MB/s eta 0:00:01\n",
      "   ---------------------------------------  337.9/341.3 kB 7.0 MB/s eta 0:00:01\n",
      "   ---------------------------------------- 341.3/341.3 kB 1.1 MB/s eta 0:00:00\n",
      "Downloading altgraph-0.17.4-py2.py3-none-any.whl (21 kB)\n",
      "Installing collected packages: altgraph, pyinstaller-hooks-contrib, pefile, pyinstaller\n",
      "Successfully installed altgraph-0.17.4 pefile-2023.2.7 pyinstaller-6.9.0 pyinstaller-hooks-contrib-2024.7\n",
      "Note: you may need to restart the kernel to use updated packages.\n"
     ]
    }
   ],
   "source": [
    "pip install pyinstaller"
   ]
  },
  {
   "cell_type": "code",
   "execution_count": 5,
   "id": "4848ec25-20f3-452e-8ca4-bab47f0cda07",
   "metadata": {},
   "outputs": [
    {
     "ename": "SyntaxError",
     "evalue": "invalid syntax (2027629672.py, line 1)",
     "output_type": "error",
     "traceback": [
      "\u001b[1;36m  Cell \u001b[1;32mIn[5], line 1\u001b[1;36m\u001b[0m\n\u001b[1;33m    pyinstaller --onefile simple_calculator.py\u001b[0m\n\u001b[1;37m                          ^\u001b[0m\n\u001b[1;31mSyntaxError\u001b[0m\u001b[1;31m:\u001b[0m invalid syntax\n"
     ]
    }
   ],
   "source": [
    "pyinstaller --onefile simple_calculator.py"
   ]
  },
  {
   "cell_type": "code",
   "execution_count": 7,
   "id": "ba07d1fb-68e8-4e74-b3ae-c5afbb5e3b68",
   "metadata": {},
   "outputs": [
    {
     "ename": "SyntaxError",
     "evalue": "invalid syntax (2982699468.py, line 1)",
     "output_type": "error",
     "traceback": [
      "\u001b[1;36m  Cell \u001b[1;32mIn[7], line 1\u001b[1;36m\u001b[0m\n\u001b[1;33m    jupyter nbconvert --to script simple_calculator.ipynb\u001b[0m\n\u001b[1;37m            ^\u001b[0m\n\u001b[1;31mSyntaxError\u001b[0m\u001b[1;31m:\u001b[0m invalid syntax\n"
     ]
    }
   ],
   "source": [
    "jupyter nbconvert --to script simple_calculator.ipynb"
   ]
  },
  {
   "cell_type": "code",
   "execution_count": null,
   "id": "6ba50bb9-f3d5-43d9-a766-5a031016e01d",
   "metadata": {},
   "outputs": [],
   "source": []
  },
  {
   "cell_type": "code",
   "execution_count": null,
   "id": "375220f9-9e25-4ae3-96d6-c3d591949844",
   "metadata": {},
   "outputs": [],
   "source": []
  },
  {
   "cell_type": "code",
   "execution_count": null,
   "id": "10201baf-0efa-431d-b1fc-29ba12324759",
   "metadata": {},
   "outputs": [],
   "source": []
  },
  {
   "cell_type": "code",
   "execution_count": null,
   "id": "994d6461-72e3-49bf-9b33-90acecc2a708",
   "metadata": {},
   "outputs": [],
   "source": []
  }
 ],
 "metadata": {
  "kernelspec": {
   "display_name": "Python 3 (ipykernel)",
   "language": "python",
   "name": "python3"
  },
  "language_info": {
   "codemirror_mode": {
    "name": "ipython",
    "version": 3
   },
   "file_extension": ".py",
   "mimetype": "text/x-python",
   "name": "python",
   "nbconvert_exporter": "python",
   "pygments_lexer": "ipython3",
   "version": "3.12.4"
  }
 },
 "nbformat": 4,
 "nbformat_minor": 5
}
